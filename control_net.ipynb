{
  "cells": [
    {
      "cell_type": "code",
      "execution_count": null,
      "metadata": {
        "colab": {
          "base_uri": "https://localhost:8080/"
        },
        "collapsed": true,
        "id": "uLBpwuPj0LQy",
        "outputId": "03d1f480-e4cb-4162-945b-4dc48bbc1e97"
      },
      "outputs": [
        {
          "name": "stdout",
          "output_type": "stream",
          "text": [
            "Requirement already satisfied: torch in /usr/local/lib/python3.10/dist-packages (2.5.0+cu121)\n",
            "Requirement already satisfied: torchvision in /usr/local/lib/python3.10/dist-packages (0.20.0+cu121)\n",
            "Requirement already satisfied: filelock in /usr/local/lib/python3.10/dist-packages (from torch) (3.16.1)\n",
            "Requirement already satisfied: typing-extensions>=4.8.0 in /usr/local/lib/python3.10/dist-packages (from torch) (4.12.2)\n",
            "Requirement already satisfied: networkx in /usr/local/lib/python3.10/dist-packages (from torch) (3.4.2)\n",
            "Requirement already satisfied: jinja2 in /usr/local/lib/python3.10/dist-packages (from torch) (3.1.4)\n",
            "Requirement already satisfied: fsspec in /usr/local/lib/python3.10/dist-packages (from torch) (2024.9.0)\n",
            "Requirement already satisfied: sympy==1.13.1 in /usr/local/lib/python3.10/dist-packages (from torch) (1.13.1)\n",
            "Requirement already satisfied: mpmath<1.4,>=1.1.0 in /usr/local/lib/python3.10/dist-packages (from sympy==1.13.1->torch) (1.3.0)\n",
            "Requirement already satisfied: numpy in /usr/local/lib/python3.10/dist-packages (from torchvision) (1.26.4)\n",
            "Requirement already satisfied: pillow!=8.3.*,>=5.3.0 in /usr/local/lib/python3.10/dist-packages (from torchvision) (10.4.0)\n",
            "Requirement already satisfied: MarkupSafe>=2.0 in /usr/local/lib/python3.10/dist-packages (from jinja2->torch) (3.0.2)\n",
            "Requirement already satisfied: ultralytics in /usr/local/lib/python3.10/dist-packages (8.3.29)\n",
            "Requirement already satisfied: numpy>=1.23.0 in /usr/local/lib/python3.10/dist-packages (from ultralytics) (1.26.4)\n",
            "Requirement already satisfied: matplotlib>=3.3.0 in /usr/local/lib/python3.10/dist-packages (from ultralytics) (3.8.0)\n",
            "Requirement already satisfied: opencv-python>=4.6.0 in /usr/local/lib/python3.10/dist-packages (from ultralytics) (4.10.0.84)\n",
            "Requirement already satisfied: pillow>=7.1.2 in /usr/local/lib/python3.10/dist-packages (from ultralytics) (10.4.0)\n",
            "Requirement already satisfied: pyyaml>=5.3.1 in /usr/local/lib/python3.10/dist-packages (from ultralytics) (6.0.2)\n",
            "Requirement already satisfied: requests>=2.23.0 in /usr/local/lib/python3.10/dist-packages (from ultralytics) (2.32.3)\n",
            "Requirement already satisfied: scipy>=1.4.1 in /usr/local/lib/python3.10/dist-packages (from ultralytics) (1.13.1)\n",
            "Requirement already satisfied: torch>=1.8.0 in /usr/local/lib/python3.10/dist-packages (from ultralytics) (2.5.0+cu121)\n",
            "Requirement already satisfied: torchvision>=0.9.0 in /usr/local/lib/python3.10/dist-packages (from ultralytics) (0.20.0+cu121)\n",
            "Requirement already satisfied: tqdm>=4.64.0 in /usr/local/lib/python3.10/dist-packages (from ultralytics) (4.66.6)\n",
            "Requirement already satisfied: psutil in /usr/local/lib/python3.10/dist-packages (from ultralytics) (5.9.5)\n",
            "Requirement already satisfied: py-cpuinfo in /usr/local/lib/python3.10/dist-packages (from ultralytics) (9.0.0)\n",
            "Requirement already satisfied: pandas>=1.1.4 in /usr/local/lib/python3.10/dist-packages (from ultralytics) (2.2.2)\n",
            "Requirement already satisfied: seaborn>=0.11.0 in /usr/local/lib/python3.10/dist-packages (from ultralytics) (0.13.2)\n",
            "Requirement already satisfied: ultralytics-thop>=2.0.0 in /usr/local/lib/python3.10/dist-packages (from ultralytics) (2.0.11)\n",
            "Requirement already satisfied: contourpy>=1.0.1 in /usr/local/lib/python3.10/dist-packages (from matplotlib>=3.3.0->ultralytics) (1.3.0)\n",
            "Requirement already satisfied: cycler>=0.10 in /usr/local/lib/python3.10/dist-packages (from matplotlib>=3.3.0->ultralytics) (0.12.1)\n",
            "Requirement already satisfied: fonttools>=4.22.0 in /usr/local/lib/python3.10/dist-packages (from matplotlib>=3.3.0->ultralytics) (4.54.1)\n",
            "Requirement already satisfied: kiwisolver>=1.0.1 in /usr/local/lib/python3.10/dist-packages (from matplotlib>=3.3.0->ultralytics) (1.4.7)\n",
            "Requirement already satisfied: packaging>=20.0 in /usr/local/lib/python3.10/dist-packages (from matplotlib>=3.3.0->ultralytics) (24.1)\n",
            "Requirement already satisfied: pyparsing>=2.3.1 in /usr/local/lib/python3.10/dist-packages (from matplotlib>=3.3.0->ultralytics) (3.2.0)\n",
            "Requirement already satisfied: python-dateutil>=2.7 in /usr/local/lib/python3.10/dist-packages (from matplotlib>=3.3.0->ultralytics) (2.8.2)\n",
            "Requirement already satisfied: pytz>=2020.1 in /usr/local/lib/python3.10/dist-packages (from pandas>=1.1.4->ultralytics) (2024.2)\n",
            "Requirement already satisfied: tzdata>=2022.7 in /usr/local/lib/python3.10/dist-packages (from pandas>=1.1.4->ultralytics) (2024.2)\n",
            "Requirement already satisfied: charset-normalizer<4,>=2 in /usr/local/lib/python3.10/dist-packages (from requests>=2.23.0->ultralytics) (3.4.0)\n",
            "Requirement already satisfied: idna<4,>=2.5 in /usr/local/lib/python3.10/dist-packages (from requests>=2.23.0->ultralytics) (3.10)\n",
            "Requirement already satisfied: urllib3<3,>=1.21.1 in /usr/local/lib/python3.10/dist-packages (from requests>=2.23.0->ultralytics) (2.2.3)\n",
            "Requirement already satisfied: certifi>=2017.4.17 in /usr/local/lib/python3.10/dist-packages (from requests>=2.23.0->ultralytics) (2024.8.30)\n",
            "Requirement already satisfied: filelock in /usr/local/lib/python3.10/dist-packages (from torch>=1.8.0->ultralytics) (3.16.1)\n",
            "Requirement already satisfied: typing-extensions>=4.8.0 in /usr/local/lib/python3.10/dist-packages (from torch>=1.8.0->ultralytics) (4.12.2)\n",
            "Requirement already satisfied: networkx in /usr/local/lib/python3.10/dist-packages (from torch>=1.8.0->ultralytics) (3.4.2)\n",
            "Requirement already satisfied: jinja2 in /usr/local/lib/python3.10/dist-packages (from torch>=1.8.0->ultralytics) (3.1.4)\n",
            "Requirement already satisfied: fsspec in /usr/local/lib/python3.10/dist-packages (from torch>=1.8.0->ultralytics) (2024.9.0)\n",
            "Requirement already satisfied: sympy==1.13.1 in /usr/local/lib/python3.10/dist-packages (from torch>=1.8.0->ultralytics) (1.13.1)\n",
            "Requirement already satisfied: mpmath<1.4,>=1.1.0 in /usr/local/lib/python3.10/dist-packages (from sympy==1.13.1->torch>=1.8.0->ultralytics) (1.3.0)\n",
            "Requirement already satisfied: six>=1.5 in /usr/local/lib/python3.10/dist-packages (from python-dateutil>=2.7->matplotlib>=3.3.0->ultralytics) (1.16.0)\n",
            "Requirement already satisfied: MarkupSafe>=2.0 in /usr/local/lib/python3.10/dist-packages (from jinja2->torch>=1.8.0->ultralytics) (3.0.2)\n",
            "Requirement already satisfied: diffusers in /usr/local/lib/python3.10/dist-packages (0.30.3)\n",
            "Requirement already satisfied: importlib-metadata in /usr/local/lib/python3.10/dist-packages (from diffusers) (8.5.0)\n",
            "Requirement already satisfied: filelock in /usr/local/lib/python3.10/dist-packages (from diffusers) (3.16.1)\n",
            "Requirement already satisfied: huggingface-hub>=0.23.2 in /usr/local/lib/python3.10/dist-packages (from diffusers) (0.24.7)\n",
            "Requirement already satisfied: numpy in /usr/local/lib/python3.10/dist-packages (from diffusers) (1.26.4)\n",
            "Requirement already satisfied: regex!=2019.12.17 in /usr/local/lib/python3.10/dist-packages (from diffusers) (2024.9.11)\n",
            "Requirement already satisfied: requests in /usr/local/lib/python3.10/dist-packages (from diffusers) (2.32.3)\n",
            "Requirement already satisfied: safetensors>=0.3.1 in /usr/local/lib/python3.10/dist-packages (from diffusers) (0.4.5)\n",
            "Requirement already satisfied: Pillow in /usr/local/lib/python3.10/dist-packages (from diffusers) (10.4.0)\n",
            "Requirement already satisfied: fsspec>=2023.5.0 in /usr/local/lib/python3.10/dist-packages (from huggingface-hub>=0.23.2->diffusers) (2024.9.0)\n",
            "Requirement already satisfied: packaging>=20.9 in /usr/local/lib/python3.10/dist-packages (from huggingface-hub>=0.23.2->diffusers) (24.1)\n",
            "Requirement already satisfied: pyyaml>=5.1 in /usr/local/lib/python3.10/dist-packages (from huggingface-hub>=0.23.2->diffusers) (6.0.2)\n",
            "Requirement already satisfied: tqdm>=4.42.1 in /usr/local/lib/python3.10/dist-packages (from huggingface-hub>=0.23.2->diffusers) (4.66.6)\n",
            "Requirement already satisfied: typing-extensions>=3.7.4.3 in /usr/local/lib/python3.10/dist-packages (from huggingface-hub>=0.23.2->diffusers) (4.12.2)\n",
            "Requirement already satisfied: zipp>=3.20 in /usr/local/lib/python3.10/dist-packages (from importlib-metadata->diffusers) (3.20.2)\n",
            "Requirement already satisfied: charset-normalizer<4,>=2 in /usr/local/lib/python3.10/dist-packages (from requests->diffusers) (3.4.0)\n",
            "Requirement already satisfied: idna<4,>=2.5 in /usr/local/lib/python3.10/dist-packages (from requests->diffusers) (3.10)\n",
            "Requirement already satisfied: urllib3<3,>=1.21.1 in /usr/local/lib/python3.10/dist-packages (from requests->diffusers) (2.2.3)\n",
            "Requirement already satisfied: certifi>=2017.4.17 in /usr/local/lib/python3.10/dist-packages (from requests->diffusers) (2024.8.30)\n",
            "Requirement already satisfied: datasets in /usr/local/lib/python3.10/dist-packages (3.1.0)\n",
            "Requirement already satisfied: filelock in /usr/local/lib/python3.10/dist-packages (from datasets) (3.16.1)\n",
            "Requirement already satisfied: numpy>=1.17 in /usr/local/lib/python3.10/dist-packages (from datasets) (1.26.4)\n",
            "Requirement already satisfied: pyarrow>=15.0.0 in /usr/local/lib/python3.10/dist-packages (from datasets) (17.0.0)\n",
            "Requirement already satisfied: dill<0.3.9,>=0.3.0 in /usr/local/lib/python3.10/dist-packages (from datasets) (0.3.8)\n",
            "Requirement already satisfied: pandas in /usr/local/lib/python3.10/dist-packages (from datasets) (2.2.2)\n",
            "Requirement already satisfied: requests>=2.32.2 in /usr/local/lib/python3.10/dist-packages (from datasets) (2.32.3)\n",
            "Requirement already satisfied: tqdm>=4.66.3 in /usr/local/lib/python3.10/dist-packages (from datasets) (4.66.6)\n",
            "Requirement already satisfied: xxhash in /usr/local/lib/python3.10/dist-packages (from datasets) (3.5.0)\n",
            "Requirement already satisfied: multiprocess<0.70.17 in /usr/local/lib/python3.10/dist-packages (from datasets) (0.70.16)\n",
            "Requirement already satisfied: fsspec<=2024.9.0,>=2023.1.0 in /usr/local/lib/python3.10/dist-packages (from fsspec[http]<=2024.9.0,>=2023.1.0->datasets) (2024.9.0)\n",
            "Requirement already satisfied: aiohttp in /usr/local/lib/python3.10/dist-packages (from datasets) (3.10.10)\n",
            "Requirement already satisfied: huggingface-hub>=0.23.0 in /usr/local/lib/python3.10/dist-packages (from datasets) (0.24.7)\n",
            "Requirement already satisfied: packaging in /usr/local/lib/python3.10/dist-packages (from datasets) (24.1)\n",
            "Requirement already satisfied: pyyaml>=5.1 in /usr/local/lib/python3.10/dist-packages (from datasets) (6.0.2)\n",
            "Requirement already satisfied: aiohappyeyeballs>=2.3.0 in /usr/local/lib/python3.10/dist-packages (from aiohttp->datasets) (2.4.3)\n",
            "Requirement already satisfied: aiosignal>=1.1.2 in /usr/local/lib/python3.10/dist-packages (from aiohttp->datasets) (1.3.1)\n",
            "Requirement already satisfied: attrs>=17.3.0 in /usr/local/lib/python3.10/dist-packages (from aiohttp->datasets) (24.2.0)\n",
            "Requirement already satisfied: frozenlist>=1.1.1 in /usr/local/lib/python3.10/dist-packages (from aiohttp->datasets) (1.5.0)\n",
            "Requirement already satisfied: multidict<7.0,>=4.5 in /usr/local/lib/python3.10/dist-packages (from aiohttp->datasets) (6.1.0)\n",
            "Requirement already satisfied: yarl<2.0,>=1.12.0 in /usr/local/lib/python3.10/dist-packages (from aiohttp->datasets) (1.17.1)\n",
            "Requirement already satisfied: async-timeout<5.0,>=4.0 in /usr/local/lib/python3.10/dist-packages (from aiohttp->datasets) (4.0.3)\n",
            "Requirement already satisfied: typing-extensions>=3.7.4.3 in /usr/local/lib/python3.10/dist-packages (from huggingface-hub>=0.23.0->datasets) (4.12.2)\n",
            "Requirement already satisfied: charset-normalizer<4,>=2 in /usr/local/lib/python3.10/dist-packages (from requests>=2.32.2->datasets) (3.4.0)\n",
            "Requirement already satisfied: idna<4,>=2.5 in /usr/local/lib/python3.10/dist-packages (from requests>=2.32.2->datasets) (3.10)\n",
            "Requirement already satisfied: urllib3<3,>=1.21.1 in /usr/local/lib/python3.10/dist-packages (from requests>=2.32.2->datasets) (2.2.3)\n",
            "Requirement already satisfied: certifi>=2017.4.17 in /usr/local/lib/python3.10/dist-packages (from requests>=2.32.2->datasets) (2024.8.30)\n",
            "Requirement already satisfied: python-dateutil>=2.8.2 in /usr/local/lib/python3.10/dist-packages (from pandas->datasets) (2.8.2)\n",
            "Requirement already satisfied: pytz>=2020.1 in /usr/local/lib/python3.10/dist-packages (from pandas->datasets) (2024.2)\n",
            "Requirement already satisfied: tzdata>=2022.7 in /usr/local/lib/python3.10/dist-packages (from pandas->datasets) (2024.2)\n",
            "Requirement already satisfied: six>=1.5 in /usr/local/lib/python3.10/dist-packages (from python-dateutil>=2.8.2->pandas->datasets) (1.16.0)\n",
            "Requirement already satisfied: propcache>=0.2.0 in /usr/local/lib/python3.10/dist-packages (from yarl<2.0,>=1.12.0->aiohttp->datasets) (0.2.0)\n",
            "Requirement already satisfied: pillow in /usr/local/lib/python3.10/dist-packages (10.4.0)\n"
          ]
        }
      ],
      "source": [
        "!pip install torch torchvision\n",
        "!pip install ultralytics\n",
        "!pip install diffusers\n",
        "!pip install datasets\n",
        "!pip install pillow"
      ]
    },
    {
      "cell_type": "code",
      "execution_count": null,
      "metadata": {
        "id": "CuC7Y8Ds2gTn"
      },
      "outputs": [],
      "source": [
        "import torch\n",
        "import torch.nn as nn\n",
        "import torch.nn.functional as F\n",
        "import torch.optim as optim\n",
        "from torch.utils.data import Dataset, DataLoader\n",
        "from diffusers import (\n",
        "    ControlNetModel,\n",
        "    DDPMScheduler,\n",
        "    UNet2DConditionModel,\n",
        "    AutoencoderKL\n",
        ")\n",
        "from transformers import CLIPTextModel, CLIPTokenizer\n",
        "from PIL import Image\n",
        "import numpy as np\n",
        "import cv2\n",
        "import os\n",
        "import torch.cuda\n",
        "from tqdm import tqdm\n",
        "import logging\n",
        "import json\n",
        "from datetime import datetime\n",
        "from ultralytics import YOLO\n",
        "from torchvision import transforms\n",
        "from torchvision.models import vgg19"
      ]
    },
    {
      "cell_type": "code",
      "execution_count": null,
      "metadata": {
        "id": "1XZOMnnrHVfX"
      },
      "outputs": [],
      "source": [
        "class KnollingDataset(Dataset):\n",
        "    def __init__(self, messy_dir, tidy_dir, tokenizer, size=512):\n",
        "        self.messy_dir = messy_dir\n",
        "        self.tidy_dir = tidy_dir\n",
        "        self.size = size\n",
        "        self.tokenizer = tokenizer\n",
        "\n",
        "        self.messy_images = sorted([f for f in os.listdir(messy_dir) if f.endswith(('.png', '.jpg'))])\n",
        "        self.tidy_images = sorted([f for f in os.listdir(tidy_dir) if f.endswith(('.png', '.jpg'))])\n",
        "\n",
        "    def __len__(self):\n",
        "        return len(self.messy_images)\n",
        "\n",
        "    def prepare_image(self, image):\n",
        "        \"\"\"Convert image to model input format\"\"\"\n",
        "        if not isinstance(image, Image.Image):\n",
        "            image = Image.fromarray(image)\n",
        "        image = image.resize((self.size, self.size))\n",
        "        image = np.array(image).astype(np.float32) / 127.5 - 1.0\n",
        "        image = torch.from_numpy(image).permute(2, 0, 1)\n",
        "        return image\n",
        "\n",
        "    def prepare_conditioning(self, image):\n",
        "        \"\"\"Create edge map conditioning using Canny\"\"\"\n",
        "        if isinstance(image, Image.Image):\n",
        "            image = np.array(image)\n",
        "        if image.shape[:2] != (self.size, self.size):\n",
        "            image = cv2.resize(image, (self.size, self.size))\n",
        "\n",
        "        edge_image = cv2.Canny(image, 100, 200)\n",
        "        edge_image = edge_image.astype(np.float32) / 255.0\n",
        "\n",
        "        edge_image = np.stack([edge_image] * 3, axis=2)\n",
        "\n",
        "        edge_tensor = torch.from_numpy(edge_image).permute(2, 0, 1).float()\n",
        "        return edge_tensor\n",
        "\n",
        "    def __getitem__(self, idx):\n",
        "        messy_path = os.path.join(self.messy_dir, self.messy_images[idx])\n",
        "        tidy_path = os.path.join(self.tidy_dir, self.tidy_images[idx])\n",
        "\n",
        "        messy_img = Image.open(messy_path).convert('RGB')\n",
        "        tidy_img = Image.open(tidy_path).convert('RGB')\n",
        "\n",
        "        messy_img = messy_img.resize((self.size, self.size))\n",
        "        tidy_img = tidy_img.resize((self.size, self.size))\n",
        "\n",
        "        conditioning = self.prepare_conditioning(tidy_img)\n",
        "        tidy_tensor = self.prepare_image(tidy_img)\n",
        "\n",
        "        prompt = \"organize these objects neatly on a white background\"\n",
        "        prompt_ids = self.tokenizer(\n",
        "            prompt,\n",
        "            padding=\"max_length\",\n",
        "            max_length=self.tokenizer.model_max_length,\n",
        "            truncation=True,\n",
        "            return_tensors=\"pt\"\n",
        "        ).input_ids[0]\n",
        "\n",
        "        return {\n",
        "            \"conditioning\": conditioning,\n",
        "            \"target\": tidy_tensor,\n",
        "            \"prompt_ids\": prompt_ids,\n",
        "            \"original_messy\": self.prepare_image(messy_img)\n",
        "        }"
      ]
    },
    {
      "cell_type": "code",
      "execution_count": null,
      "metadata": {
        "id": "OK5eqmgrHVhp"
      },
      "outputs": [],
      "source": [
        "class KnollingControlNet:\n",
        "    def __init__(self, pretrained_model_path=\"runwayml/stable-diffusion-v1-5\"):\n",
        "        self.device = torch.device(\"cuda\" if torch.cuda.is_available() else \"cpu\")\n",
        "\n",
        "        self.vae = AutoencoderKL.from_pretrained(pretrained_model_path, subfolder=\"vae\")\n",
        "        self.text_encoder = CLIPTextModel.from_pretrained(pretrained_model_path, subfolder=\"text_encoder\")\n",
        "        self.tokenizer = CLIPTokenizer.from_pretrained(pretrained_model_path, subfolder=\"tokenizer\")\n",
        "        self.controlnet = ControlNetModel.from_pretrained(\"lllyasviel/sd-controlnet-canny\")\n",
        "        self.unet = UNet2DConditionModel.from_pretrained(pretrained_model_path, subfolder=\"unet\")\n",
        "\n",
        "        self.noise_scheduler = DDPMScheduler(\n",
        "            num_train_timesteps=1000,\n",
        "            beta_start=0.00085,\n",
        "            beta_end=0.012,\n",
        "            beta_schedule=\"scaled_linear\",\n",
        "            clip_sample=False\n",
        "        )\n",
        "\n",
        "        self.vae.requires_grad_(False)\n",
        "        self.text_encoder.requires_grad_(False)\n",
        "        self.unet.requires_grad_(True)\n",
        "        self.controlnet.train()\n",
        "\n",
        "        self.to(self.device)\n",
        "\n",
        "    def to(self, device):\n",
        "        self.vae.to(device)\n",
        "        self.text_encoder.to(device)\n",
        "        self.controlnet.to(device)\n",
        "        self.unet.to(device)\n",
        "        return self\n",
        "\n",
        "    def perceptual_loss(self, x, y):\n",
        "        \"\"\"Simple L1 perceptual loss over VAE features\"\"\"\n",
        "        x_features = self.vae.encode(x).latent_dist.mean\n",
        "        y_features = self.vae.encode(y).latent_dist.mean\n",
        "        return torch.mean(torch.abs(x_features - y_features))\n",
        "\n",
        "    def train_step(self, batch):\n",
        "        try:\n",
        "            conditioning = batch[\"conditioning\"].to(self.device)\n",
        "            target = batch[\"target\"].to(self.device)\n",
        "            original_messy = batch[\"original_messy\"].to(self.device)\n",
        "            prompt_ids = batch[\"prompt_ids\"].to(self.device)\n",
        "\n",
        "            with torch.no_grad():\n",
        "                encoder_hidden_states = self.text_encoder(prompt_ids)[0]\n",
        "                target_latents = self.vae.encode(target).latent_dist.sample()\n",
        "                target_latents = target_latents * self.vae.config.scaling_factor\n",
        "\n",
        "            loss_dict = {}\n",
        "            noise = torch.randn_like(target_latents)\n",
        "            timesteps = torch.randint(\n",
        "                0, self.noise_scheduler.config.num_train_timesteps,\n",
        "                (target_latents.shape[0],), device=self.device\n",
        "            ).long()\n",
        "\n",
        "            noisy_latents = self.noise_scheduler.add_noise(target_latents, noise, timesteps)\n",
        "            down_block_res_samples, mid_block_res_sample = self.controlnet(\n",
        "                noisy_latents,\n",
        "                timesteps,\n",
        "                encoder_hidden_states=encoder_hidden_states,\n",
        "                controlnet_cond=conditioning,\n",
        "                return_dict=False,\n",
        "            )\n",
        "\n",
        "            noise_pred = self.unet(\n",
        "                noisy_latents,\n",
        "                timesteps,\n",
        "                encoder_hidden_states=encoder_hidden_states,\n",
        "                down_block_additional_residuals=down_block_res_samples,\n",
        "                mid_block_additional_residual=mid_block_res_sample,\n",
        "            ).sample\n",
        "\n",
        "            noise_loss = F.mse_loss(noise_pred, noise, reduction=\"mean\")\n",
        "            loss_dict[\"noise\"] = noise_loss.item()\n",
        "            total_loss = noise_loss\n",
        "\n",
        "            with torch.no_grad():\n",
        "                single_noise_pred = noise_pred[0:1]\n",
        "                single_timestep = timesteps[0:1]\n",
        "                single_noisy_latents = noisy_latents[0:1]\n",
        "\n",
        "                pred_latents = self.noise_scheduler.step(\n",
        "                    model_output=single_noise_pred,\n",
        "                    timestep=single_timestep,\n",
        "                    sample=single_noisy_latents\n",
        "                ).prev_sample\n",
        "\n",
        "                pred_images = self.vae.decode(pred_latents / self.vae.config.scaling_factor).sample\n",
        "\n",
        "                messy_features = self.vae.encode(original_messy[0:1]).latent_dist.mean\n",
        "                pred_features = self.vae.encode(pred_images).latent_dist.mean\n",
        "\n",
        "                content_loss = F.mse_loss(\n",
        "                    messy_features / messy_features.norm(dim=1, keepdim=True),\n",
        "                    pred_features / pred_features.norm(dim=1, keepdim=True),\n",
        "                    reduction=\"mean\"\n",
        "                )\n",
        "                loss_dict[\"content\"] = content_loss.item()\n",
        "\n",
        "                total_loss = total_loss + 0.01 * content_loss\n",
        "                target_features = self.vae.encode(target[0:1]).latent_dist.mean\n",
        "                perceptual_loss = F.mse_loss(\n",
        "                    pred_features / pred_features.norm(dim=1, keepdim=True),\n",
        "                    target_features / target_features.norm(dim=1, keepdim=True),\n",
        "                    reduction=\"mean\"\n",
        "                )\n",
        "                loss_dict[\"perceptual\"] = perceptual_loss.item()\n",
        "\n",
        "                total_loss = total_loss + 0.01 * perceptual_loss\n",
        "\n",
        "            kl_loss = torch.nn.functional.kl_div(\n",
        "                F.log_softmax(noise_pred.flatten(1), dim=-1),\n",
        "                F.softmax(noise.flatten(1), dim=-1),\n",
        "                reduction=\"batchmean\"\n",
        "            )\n",
        "            loss_dict[\"kl\"] = kl_loss.item()\n",
        "            total_loss = total_loss + 0.001 * kl_loss\n",
        "\n",
        "            if torch.isnan(total_loss) or torch.isinf(total_loss) or total_loss > 100:\n",
        "                print(f\"Warning: Unstable loss detected: {total_loss}\")\n",
        "                return noise_loss, {\"noise\": noise_loss.item()}\n",
        "\n",
        "            return total_loss, loss_dict\n",
        "\n",
        "        except Exception as e:\n",
        "            print(f\"Error in train_step: {str(e)}\")\n",
        "            print(f\"Shapes:\")\n",
        "            print(f\"  conditioning: {conditioning.shape}\")\n",
        "            print(f\"  target: {target.shape}\")\n",
        "            print(f\"  original_messy: {original_messy.shape}\")\n",
        "            print(f\"  prompt_ids: {prompt_ids.shape}\")\n",
        "            print(f\"  noise_pred: {noise_pred.shape}\")\n",
        "            print(f\"  timesteps: {timesteps.shape}\")\n",
        "            raise e\n",
        "\n",
        "    def train(self, train_dataloader, num_epochs=100, learning_rate=1e-5):\n",
        "        try:\n",
        "            optimizer = optim.AdamW([\n",
        "                {'params': self.controlnet.parameters(), 'lr': learning_rate, 'weight_decay': 0.01}\n",
        "            ])\n",
        "\n",
        "            num_training_steps = num_epochs * len(train_dataloader)\n",
        "            num_warmup_steps = num_training_steps // 10\n",
        "\n",
        "            scheduler = torch.optim.lr_scheduler.OneCycleLR(\n",
        "                optimizer,\n",
        "                max_lr=learning_rate,\n",
        "                total_steps=num_training_steps,\n",
        "                pct_start=0.1,\n",
        "                anneal_strategy='cos'\n",
        "            )\n",
        "\n",
        "            best_loss = float('inf')\n",
        "            patience = 5\n",
        "            patience_counter = 0\n",
        "\n",
        "            for epoch in range(num_epochs):\n",
        "                self.controlnet.train()\n",
        "                running_loss = 0.0\n",
        "                loss_components = {\"noise\": 0.0, \"content\": 0.0, \"perceptual\": 0.0, \"kl\": 0.0}\n",
        "                num_batches = len(train_dataloader)\n",
        "\n",
        "                with tqdm(train_dataloader, desc=f\"Epoch {epoch+1}/{num_epochs}\") as pbar:\n",
        "                    for step, batch in enumerate(pbar):\n",
        "                        try:\n",
        "                            loss, loss_dict = self.train_step(batch)\n",
        "\n",
        "                            if torch.isnan(loss) or torch.isinf(loss) or loss > 100:\n",
        "                                print(f\"Skipping step {step} due to bad loss value: {loss}\")\n",
        "                                continue\n",
        "\n",
        "                            optimizer.zero_grad()\n",
        "                            loss.backward()\n",
        "                            torch.nn.utils.clip_grad_norm_(self.controlnet.parameters(), max_norm=1.0)\n",
        "                            optimizer.step()\n",
        "                            scheduler.step()\n",
        "\n",
        "                            running_loss += loss.item()\n",
        "                            for k, v in loss_dict.items():\n",
        "                                loss_components[k] += v\n",
        "\n",
        "                            pbar.set_postfix({\n",
        "                                'loss': f\"{loss.item():.4f}\",\n",
        "                                'lr': f\"{scheduler.get_last_lr()[0]:.2e}\"\n",
        "                            })\n",
        "\n",
        "                            if step % 10 == 0:\n",
        "                                print(\"\\nLoss components:\")\n",
        "                                for k, v in loss_dict.items():\n",
        "                                    print(f\"  {k}: {v:.4f}\")\n",
        "\n",
        "                        except Exception as e:\n",
        "                            print(f\"\\nError in batch {step}: {str(e)}\")\n",
        "                            continue\n",
        "\n",
        "                avg_loss = running_loss / num_batches\n",
        "                print(f\"\\nEpoch {epoch+1} Summary:\")\n",
        "                print(f\"Average Loss: {avg_loss:.4f}\")\n",
        "                for k, v in loss_components.items():\n",
        "                    print(f\"Average {k} loss: {v/num_batches:.4f}\")\n",
        "\n",
        "                if avg_loss < best_loss:\n",
        "                    best_loss = avg_loss\n",
        "                    patience_counter = 0\n",
        "\n",
        "                    save_path = f\"knolling_controlnet_best\"\n",
        "                    os.makedirs(save_path, exist_ok=True)\n",
        "                    self.controlnet.save_pretrained(save_path)\n",
        "\n",
        "                    metrics = {\n",
        "                        'epoch': epoch + 1,\n",
        "                        'avg_loss': avg_loss,\n",
        "                        'loss_components': {k: v/num_batches for k, v in loss_components.items()},\n",
        "                        'learning_rate': scheduler.get_last_lr()[0],\n",
        "                        'best_loss': True\n",
        "                    }\n",
        "                    with open(os.path.join(save_path, 'metrics.json'), 'w') as f:\n",
        "                        json.dump(metrics, f, indent=2)\n",
        "                else:\n",
        "                    patience_counter += 1\n",
        "                    if patience_counter >= patience:\n",
        "                        print(f\"\\nEarly stopping triggered after {epoch+1} epochs\")\n",
        "                        break\n",
        "\n",
        "                if (epoch + 1) % 5 == 0:\n",
        "                    save_path = f\"knolling_controlnet_epoch_{epoch+1}\"\n",
        "                    os.makedirs(save_path, exist_ok=True)\n",
        "                    self.controlnet.save_pretrained(save_path)\n",
        "                    metrics = {\n",
        "                        'epoch': epoch + 1,\n",
        "                        'avg_loss': avg_loss,\n",
        "                        'loss_components': {k: v/num_batches for k, v in loss_components.items()},\n",
        "                        'learning_rate': scheduler.get_last_lr()[0]\n",
        "                    }\n",
        "                    with open(os.path.join(save_path, 'metrics.json'), 'w') as f:\n",
        "                        json.dump(metrics, f, indent=2)\n",
        "\n",
        "        except Exception as e:\n",
        "            print(f\"Training error: {str(e)}\")\n",
        "            raise e\n",
        "\n",
        "    @torch.no_grad()\n",
        "    def generate(self, messy_image, num_inference_steps=50, strength=0.8, display_intermediate=False):\n",
        "        self.controlnet.eval()\n",
        "\n",
        "        if isinstance(messy_image, Image.Image):\n",
        "            messy_image = messy_image.resize((512, 512))\n",
        "        else:\n",
        "            messy_image = Image.fromarray(messy_image).resize((512, 512))\n",
        "\n",
        "        preprocess = transforms.Compose([\n",
        "            transforms.ToTensor(),\n",
        "            transforms.Normalize([0.5], [0.5]),\n",
        "        ])\n",
        "        messy_tensor = preprocess(messy_image).unsqueeze(0).to(self.device)\n",
        "\n",
        "        init_latents = self.vae.encode(messy_tensor).latent_dist.sample()\n",
        "        init_latents = init_latents * self.vae.config.scaling_factor\n",
        "\n",
        "        edge_image = cv2.Canny(np.array(messy_image.convert('RGB')), 100, 200)\n",
        "        edge_image = edge_image.astype(np.float32) / 255.0\n",
        "        edge_image = np.stack([edge_image] * 3, axis=2)\n",
        "        edge_tensor = torch.from_numpy(edge_image).permute(2, 0, 1).float()\n",
        "        edge_tensor = edge_tensor.unsqueeze(0).to(self.device)\n",
        "\n",
        "        prompt = \"organize these objects neatly on a white background\"\n",
        "        text_input = self.tokenizer(\n",
        "            prompt,\n",
        "            padding=\"max_length\",\n",
        "            max_length=self.tokenizer.model_max_length,\n",
        "            truncation=True,\n",
        "            return_tensors=\"pt\"\n",
        "        ).input_ids.to(self.device)\n",
        "\n",
        "        encoder_hidden_states = self.text_encoder(text_input)[0]\n",
        "\n",
        "        if strength < 0 or strength > 1:\n",
        "            raise ValueError(\"Strength should be between 0 and 1\")\n",
        "\n",
        "        self.noise_scheduler.set_timesteps(num_inference_steps)\n",
        "        init_timestep = int(num_inference_steps * strength)\n",
        "        init_timestep = min(init_timestep, num_inference_steps - 1)\n",
        "\n",
        "        timesteps = self.noise_scheduler.timesteps\n",
        "        timestep = timesteps[-init_timestep]\n",
        "        timestep = torch.tensor([timestep], device=self.device).long()\n",
        "\n",
        "        noise = torch.randn_like(init_latents)\n",
        "        latents = self.noise_scheduler.add_noise(init_latents, noise, timestep)\n",
        "        timesteps = self.noise_scheduler.timesteps[-init_timestep:]\n",
        "\n",
        "        progress_bar = tqdm(timesteps)\n",
        "        for t in progress_bar:\n",
        "            timestep = t.expand(latents.shape[0])\n",
        "\n",
        "            down_block_res_samples, mid_block_res_sample = self.controlnet(\n",
        "                latents,\n",
        "                t,\n",
        "                encoder_hidden_states=encoder_hidden_states,\n",
        "                controlnet_cond=edge_tensor,\n",
        "                return_dict=False\n",
        "            )\n",
        "\n",
        "            noise_pred = self.unet(\n",
        "                latents,\n",
        "                t,\n",
        "                encoder_hidden_states=encoder_hidden_states,\n",
        "                down_block_additional_residuals=down_block_res_samples,\n",
        "                mid_block_additional_residual=mid_block_res_sample\n",
        "            ).sample\n",
        "\n",
        "            latents = self.noise_scheduler.step(\n",
        "                model_output=noise_pred,\n",
        "                timestep=t,\n",
        "                sample=latents\n",
        "            ).prev_sample\n",
        "\n",
        "            if display_intermediate:\n",
        "                temp_latents = latents / self.vae.config.scaling_factor\n",
        "                temp_image = self.vae.decode(temp_latents).sample\n",
        "                temp_image = (temp_image / 2 + 0.5).clamp(0, 1)\n",
        "                temp_image = temp_image.cpu().permute(0, 2, 3, 1).float().numpy()\n",
        "                temp_image = (temp_image * 255).round().astype(\"uint8\")[0]\n",
        "\n",
        "                intermediate_image = Image.fromarray(temp_image)\n",
        "                from IPython.display import display, clear_output\n",
        "                clear_output(wait=True)\n",
        "                display(intermediate_image)\n",
        "\n",
        "            progress_bar.set_description(f\"Denoising: {t.item()}\")\n",
        "\n",
        "        latents = latents / self.vae.config.scaling_factor\n",
        "        image = self.vae.decode(latents).sample\n",
        "        image = (image / 2 + 0.5).clamp(0, 1)\n",
        "        image = image.cpu().permute(0, 2, 3, 1).float().numpy()\n",
        "        image = (image * 255).round().astype(\"uint8\")[0]\n",
        "\n",
        "        return Image.fromarray(image)\n",
        "\n",
        "    def __del__(self):\n",
        "        if hasattr(self, 'controlnet'):\n",
        "            del self.controlnet\n",
        "        if hasattr(self, 'unet'):\n",
        "            del self.unet\n",
        "        if hasattr(self, 'vae'):\n",
        "            del self.vae\n",
        "        if hasattr(self, 'text_encoder'):\n",
        "            del self.text_encoder\n",
        "        torch.cuda.empty_cache()"
      ]
    },
    {
      "cell_type": "code",
      "execution_count": null,
      "metadata": {
        "colab": {
          "base_uri": "https://localhost:8080/"
        },
        "id": "DTQyStS8HVnk",
        "outputId": "c7cd767d-0fa5-492e-ad67-5bbfef1f5246"
      },
      "outputs": [
        {
          "name": "stderr",
          "output_type": "stream",
          "text": [
            "/usr/local/lib/python3.10/dist-packages/huggingface_hub/utils/_token.py:89: UserWarning: \n",
            "The secret `HF_TOKEN` does not exist in your Colab secrets.\n",
            "To authenticate with the Hugging Face Hub, create a token in your settings tab (https://huggingface.co/settings/tokens), set it as secret in your Google Colab and restart your session.\n",
            "You will be able to reuse this secret in all of your notebooks.\n",
            "Please note that authentication is recommended but still optional to access public models or datasets.\n",
            "  warnings.warn(\n",
            "/usr/local/lib/python3.10/dist-packages/transformers/tokenization_utils_base.py:1601: FutureWarning: `clean_up_tokenization_spaces` was not set. It will be set to `True` by default. This behavior will be depracted in transformers v4.45, and will be then set to `False` by default. For more details check this issue: https://github.com/huggingface/transformers/issues/31884\n",
            "  warnings.warn(\n",
            "Epoch 1/10:   4%|▎         | 1/27 [00:02<01:09,  2.69s/it, loss=0.0140, lr=4.35e-07]"
          ]
        },
        {
          "name": "stdout",
          "output_type": "stream",
          "text": [
            "\n",
            "Loss components:\n",
            "  noise: 0.0077\n",
            "  content: 0.3254\n",
            "  perceptual: 0.3087\n",
            "  kl: 0.0038\n"
          ]
        },
        {
          "name": "stderr",
          "output_type": "stream",
          "text": [
            "Epoch 1/10:  41%|████      | 11/27 [00:13<00:20,  1.27s/it, loss=0.0178, lr=4.05e-06]"
          ]
        },
        {
          "name": "stdout",
          "output_type": "stream",
          "text": [
            "\n",
            "Loss components:\n",
            "  noise: 0.0151\n",
            "  content: 0.1788\n",
            "  perceptual: 0.0837\n",
            "  kl: 0.0076\n"
          ]
        },
        {
          "name": "stderr",
          "output_type": "stream",
          "text": [
            "Epoch 1/10:  78%|███████▊  | 21/27 [00:25<00:06,  1.09s/it, loss=0.0168, lr=9.15e-06]"
          ]
        },
        {
          "name": "stdout",
          "output_type": "stream",
          "text": [
            "\n",
            "Loss components:\n",
            "  noise: 0.0076\n",
            "  content: 0.4653\n",
            "  perceptual: 0.4544\n",
            "  kl: 0.0043\n"
          ]
        },
        {
          "name": "stderr",
          "output_type": "stream",
          "text": [
            "Epoch 1/10: 100%|██████████| 27/27 [00:30<00:00,  1.14s/it, loss=0.0175, lr=1.00e-05]\n"
          ]
        },
        {
          "name": "stdout",
          "output_type": "stream",
          "text": [
            "\n",
            "Epoch 1 Summary:\n",
            "Average Loss: 0.0185\n",
            "Average noise loss: 0.0135\n",
            "Average content loss: 0.2744\n",
            "Average perceptual loss: 0.2252\n",
            "Average kl loss: 0.0071\n"
          ]
        },
        {
          "name": "stderr",
          "output_type": "stream",
          "text": [
            "Epoch 2/10:   4%|▎         | 1/27 [00:01<00:26,  1.04s/it, loss=0.0112, lr=1.00e-05]"
          ]
        },
        {
          "name": "stdout",
          "output_type": "stream",
          "text": [
            "\n",
            "Loss components:\n",
            "  noise: 0.0101\n",
            "  content: 0.0779\n",
            "  perceptual: 0.0240\n",
            "  kl: 0.0051\n"
          ]
        },
        {
          "name": "stderr",
          "output_type": "stream",
          "text": [
            "Epoch 2/10:  41%|████      | 11/27 [00:12<00:16,  1.02s/it, loss=0.0235, lr=9.94e-06]"
          ]
        },
        {
          "name": "stdout",
          "output_type": "stream",
          "text": [
            "\n",
            "Loss components:\n",
            "  noise: 0.0215\n",
            "  content: 0.1477\n",
            "  perceptual: 0.0483\n",
            "  kl: 0.0109\n"
          ]
        },
        {
          "name": "stderr",
          "output_type": "stream",
          "text": [
            "Epoch 2/10:  78%|███████▊  | 21/27 [00:22<00:06,  1.00s/it, loss=0.0229, lr=9.80e-06]"
          ]
        },
        {
          "name": "stdout",
          "output_type": "stream",
          "text": [
            "\n",
            "Loss components:\n",
            "  noise: 0.0138\n",
            "  content: 0.4575\n",
            "  perceptual: 0.4537\n",
            "  kl: 0.0070\n"
          ]
        },
        {
          "name": "stderr",
          "output_type": "stream",
          "text": [
            "Epoch 2/10: 100%|██████████| 27/27 [00:27<00:00,  1.02s/it, loss=0.0100, lr=9.68e-06]\n"
          ]
        },
        {
          "name": "stdout",
          "output_type": "stream",
          "text": [
            "\n",
            "Epoch 2 Summary:\n",
            "Average Loss: 0.0154\n",
            "Average noise loss: 0.0108\n",
            "Average content loss: 0.2588\n",
            "Average perceptual loss: 0.2055\n",
            "Average kl loss: 0.0055\n"
          ]
        },
        {
          "name": "stderr",
          "output_type": "stream",
          "text": [
            "Epoch 3/10:   4%|▎         | 1/27 [00:01<00:27,  1.04s/it, loss=0.0118, lr=9.65e-06]"
          ]
        },
        {
          "name": "stdout",
          "output_type": "stream",
          "text": [
            "\n",
            "Loss components:\n",
            "  noise: 0.0036\n",
            "  content: 0.4153\n",
            "  perceptual: 0.4063\n",
            "  kl: 0.0017\n"
          ]
        },
        {
          "name": "stderr",
          "output_type": "stream",
          "text": [
            "Epoch 3/10:  41%|████      | 11/27 [00:11<00:16,  1.02s/it, loss=0.0224, lr=9.38e-06]"
          ]
        },
        {
          "name": "stdout",
          "output_type": "stream",
          "text": [
            "\n",
            "Loss components:\n",
            "  noise: 0.0210\n",
            "  content: 0.1210\n",
            "  perceptual: 0.0149\n",
            "  kl: 0.0107\n"
          ]
        },
        {
          "name": "stderr",
          "output_type": "stream",
          "text": [
            "Epoch 3/10:  78%|███████▊  | 21/27 [00:21<00:06,  1.01s/it, loss=0.0314, lr=9.03e-06]"
          ]
        },
        {
          "name": "stdout",
          "output_type": "stream",
          "text": [
            "\n",
            "Loss components:\n",
            "  noise: 0.0287\n",
            "  content: 0.1829\n",
            "  perceptual: 0.0821\n",
            "  kl: 0.0152\n"
          ]
        },
        {
          "name": "stderr",
          "output_type": "stream",
          "text": [
            "Epoch 3/10: 100%|██████████| 27/27 [00:27<00:00,  1.02s/it, loss=0.0108, lr=8.79e-06]\n"
          ]
        },
        {
          "name": "stdout",
          "output_type": "stream",
          "text": [
            "\n",
            "Epoch 3 Summary:\n",
            "Average Loss: 0.0184\n",
            "Average noise loss: 0.0143\n",
            "Average content loss: 0.2378\n",
            "Average perceptual loss: 0.1719\n",
            "Average kl loss: 0.0074\n"
          ]
        },
        {
          "name": "stderr",
          "output_type": "stream",
          "text": [
            "Epoch 4/10:   4%|▎         | 1/27 [00:00<00:25,  1.01it/s, loss=0.0106, lr=8.75e-06]"
          ]
        },
        {
          "name": "stdout",
          "output_type": "stream",
          "text": [
            "\n",
            "Loss components:\n",
            "  noise: 0.0018\n",
            "  content: 0.4491\n",
            "  perceptual: 0.4366\n",
            "  kl: 0.0008\n"
          ]
        },
        {
          "name": "stderr",
          "output_type": "stream",
          "text": [
            "Epoch 4/10:  41%|████      | 11/27 [00:10<00:15,  1.00it/s, loss=0.0219, lr=8.29e-06]"
          ]
        },
        {
          "name": "stdout",
          "output_type": "stream",
          "text": [
            "\n",
            "Loss components:\n",
            "  noise: 0.0157\n",
            "  content: 0.3184\n",
            "  perceptual: 0.2978\n",
            "  kl: 0.0074\n"
          ]
        },
        {
          "name": "stderr",
          "output_type": "stream",
          "text": [
            "Epoch 4/10:  78%|███████▊  | 21/27 [00:20<00:06,  1.00s/it, loss=0.0323, lr=7.77e-06]"
          ]
        },
        {
          "name": "stdout",
          "output_type": "stream",
          "text": [
            "\n",
            "Loss components:\n",
            "  noise: 0.0313\n",
            "  content: 0.0998\n",
            "  perceptual: 0.0017\n",
            "  kl: 0.0162\n"
          ]
        },
        {
          "name": "stderr",
          "output_type": "stream",
          "text": [
            "Epoch 4/10: 100%|██████████| 27/27 [00:26<00:00,  1.02it/s, loss=0.0104, lr=7.44e-06]\n"
          ]
        },
        {
          "name": "stdout",
          "output_type": "stream",
          "text": [
            "\n",
            "Epoch 4 Summary:\n",
            "Average Loss: 0.0168\n",
            "Average noise loss: 0.0119\n",
            "Average content loss: 0.2714\n",
            "Average perceptual loss: 0.2220\n",
            "Average kl loss: 0.0059\n"
          ]
        },
        {
          "name": "stderr",
          "output_type": "stream",
          "text": [
            "Epoch 5/10:   4%|▎         | 1/27 [00:00<00:25,  1.00it/s, loss=0.0156, lr=7.39e-06]"
          ]
        },
        {
          "name": "stdout",
          "output_type": "stream",
          "text": [
            "\n",
            "Loss components:\n",
            "  noise: 0.0142\n",
            "  content: 0.1243\n",
            "  perceptual: 0.0139\n",
            "  kl: 0.0071\n"
          ]
        },
        {
          "name": "stderr",
          "output_type": "stream",
          "text": [
            "Epoch 5/10:  41%|████      | 11/27 [00:11<00:16,  1.00s/it, loss=0.0111, lr=6.80e-06]"
          ]
        },
        {
          "name": "stdout",
          "output_type": "stream",
          "text": [
            "\n",
            "Loss components:\n",
            "  noise: 0.0023\n",
            "  content: 0.4476\n",
            "  perceptual: 0.4307\n",
            "  kl: 0.0011\n"
          ]
        },
        {
          "name": "stderr",
          "output_type": "stream",
          "text": [
            "Epoch 5/10:  78%|███████▊  | 21/27 [00:21<00:05,  1.00it/s, loss=0.0108, lr=6.18e-06]"
          ]
        },
        {
          "name": "stdout",
          "output_type": "stream",
          "text": [
            "\n",
            "Loss components:\n",
            "  noise: 0.0022\n",
            "  content: 0.4370\n",
            "  perceptual: 0.4237\n",
            "  kl: 0.0011\n"
          ]
        },
        {
          "name": "stderr",
          "output_type": "stream",
          "text": [
            "Epoch 5/10: 100%|██████████| 27/27 [00:26<00:00,  1.02it/s, loss=0.0120, lr=5.80e-06]\n"
          ]
        },
        {
          "name": "stdout",
          "output_type": "stream",
          "text": [
            "\n",
            "Epoch 5 Summary:\n",
            "Average Loss: 0.0166\n",
            "Average noise loss: 0.0114\n",
            "Average content loss: 0.2870\n",
            "Average perceptual loss: 0.2322\n",
            "Average kl loss: 0.0058\n"
          ]
        },
        {
          "name": "stderr",
          "output_type": "stream",
          "text": [
            "Epoch 6/10:   4%|▎         | 1/27 [00:01<00:26,  1.03s/it, loss=0.0269, lr=5.74e-06]"
          ]
        },
        {
          "name": "stdout",
          "output_type": "stream",
          "text": [
            "\n",
            "Loss components:\n",
            "  noise: 0.0195\n",
            "  content: 0.3764\n",
            "  perceptual: 0.3570\n",
            "  kl: 0.0104\n"
          ]
        },
        {
          "name": "stderr",
          "output_type": "stream",
          "text": [
            "Epoch 6/10:  41%|████      | 11/27 [00:11<00:15,  1.00it/s, loss=0.0303, lr=5.10e-06]"
          ]
        },
        {
          "name": "stdout",
          "output_type": "stream",
          "text": [
            "\n",
            "Loss components:\n",
            "  noise: 0.0212\n",
            "  content: 0.4593\n",
            "  perceptual: 0.4533\n",
            "  kl: 0.0113\n"
          ]
        },
        {
          "name": "stderr",
          "output_type": "stream",
          "text": [
            "Epoch 6/10:  78%|███████▊  | 21/27 [00:21<00:05,  1.01it/s, loss=0.0101, lr=4.45e-06]"
          ]
        },
        {
          "name": "stdout",
          "output_type": "stream",
          "text": [
            "\n",
            "Loss components:\n",
            "  noise: 0.0085\n",
            "  content: 0.1130\n",
            "  perceptual: 0.0479\n",
            "  kl: 0.0041\n"
          ]
        },
        {
          "name": "stderr",
          "output_type": "stream",
          "text": [
            "Epoch 6/10: 100%|██████████| 27/27 [00:26<00:00,  1.01it/s, loss=0.0233, lr=4.07e-06]\n"
          ]
        },
        {
          "name": "stdout",
          "output_type": "stream",
          "text": [
            "\n",
            "Epoch 6 Summary:\n",
            "Average Loss: 0.0171\n",
            "Average noise loss: 0.0128\n",
            "Average content loss: 0.2431\n",
            "Average perceptual loss: 0.1917\n",
            "Average kl loss: 0.0065\n"
          ]
        },
        {
          "name": "stderr",
          "output_type": "stream",
          "text": [
            "Epoch 7/10:   4%|▎         | 1/27 [00:01<00:26,  1.00s/it, loss=0.0076, lr=4.00e-06]"
          ]
        },
        {
          "name": "stdout",
          "output_type": "stream",
          "text": [
            "\n",
            "Loss components:\n",
            "  noise: 0.0029\n",
            "  content: 0.2446\n",
            "  perceptual: 0.2236\n",
            "  kl: 0.0015\n"
          ]
        },
        {
          "name": "stderr",
          "output_type": "stream",
          "text": [
            "Epoch 7/10:  41%|████      | 11/27 [00:10<00:15,  1.00it/s, loss=0.0345, lr=3.38e-06]"
          ]
        },
        {
          "name": "stdout",
          "output_type": "stream",
          "text": [
            "\n",
            "Loss components:\n",
            "  noise: 0.0318\n",
            "  content: 0.1580\n",
            "  perceptual: 0.1112\n",
            "  kl: 0.0168\n"
          ]
        },
        {
          "name": "stderr",
          "output_type": "stream",
          "text": [
            "Epoch 7/10:  78%|███████▊  | 21/27 [00:20<00:05,  1.00it/s, loss=0.0093, lr=2.78e-06]"
          ]
        },
        {
          "name": "stdout",
          "output_type": "stream",
          "text": [
            "\n",
            "Loss components:\n",
            "  noise: 0.0045\n",
            "  content: 0.2524\n",
            "  perceptual: 0.2203\n",
            "  kl: 0.0021\n"
          ]
        },
        {
          "name": "stderr",
          "output_type": "stream",
          "text": [
            "Epoch 7/10:  89%|████████▉ | 24/27 [00:23<00:03,  1.01s/it, loss=0.0153, lr=2.61e-06]"
          ]
        }
      ],
      "source": [
        "abs_path = '/content/drive/Othercomputers/MacBook Pro (Personal)/Documents/COLUMBIA UNIVERSITY/MSCS/Research/Knolling Bot/Preliminary Pipeline/'\n",
        "messy_dir = abs_path + 'data/images_before_small/'\n",
        "tidy_dir = abs_path + 'data/images_after_small/'\n",
        "\n",
        "model = KnollingControlNet()\n",
        "dataset = KnollingDataset(messy_dir, tidy_dir, model.tokenizer)\n",
        "dataloader = DataLoader(dataset, batch_size=4, shuffle=True)\n",
        "model.train(dataloader, num_epochs=10)"
      ]
    },
    {
      "cell_type": "code",
      "execution_count": null,
      "metadata": {
        "id": "tzjoWWMCHVpr"
      },
      "outputs": [],
      "source": [
        "messy_images = [Image.open(os.path.join(messy_dir, filename)) for filename in sorted(os.listdir(messy_dir)) if filename.endswith(('.png', '.jpg'))]\n",
        "tidy_images = [Image.open(os.path.join(tidy_dir, filename)) for filename in sorted(os.listdir(tidy_dir)) if filename.endswith(('.png', '.jpg'))]"
      ]
    },
    {
      "cell_type": "code",
      "execution_count": null,
      "metadata": {
        "colab": {
          "base_uri": "https://localhost:8080/"
        },
        "id": "mFPfZZJXUJAo",
        "outputId": "8486ee76-cc46-42d2-d0aa-e1f147b77151"
      },
      "outputs": [
        {
          "output_type": "stream",
          "name": "stderr",
          "text": [
            "Denoising: 0: 100%|██████████| 40/40 [00:04<00:00,  9.72it/s]\n"
          ]
        }
      ],
      "source": [
        "tidy_result = model.generate(messy_images[100], display_intermediate=False)"
      ]
    },
    {
      "cell_type": "code",
      "source": [
        "tidy_result1 = Image.open(os.path.join(abs_path, \"tidy_1.png\"))"
      ],
      "metadata": {
        "id": "st6R8lJYMuuB"
      },
      "execution_count": null,
      "outputs": []
    },
    {
      "cell_type": "code",
      "source": [
        "tidy_result2 = Image.open(os.path.join(abs_path, \"tidy_2.png\"))"
      ],
      "metadata": {
        "id": "bXnCtJsbM95l"
      },
      "execution_count": null,
      "outputs": []
    },
    {
      "cell_type": "code",
      "source": [
        "import matplotlib.pyplot as plt\n",
        "fig, axes = plt.subplots(1, 3, figsize=(15, 5))\n",
        "\n",
        "axes[0].imshow(messy_images[1])\n",
        "axes[0].set_title(\"Original Messy Image\")\n",
        "axes[0].axis('off')\n",
        "\n",
        "axes[1].imshow(tidy_result2)\n",
        "axes[1].set_title(\"Generated Image\")\n",
        "axes[1].axis('off')\n",
        "\n",
        "axes[2].imshow(tidy_images[1])\n",
        "axes[2].set_title(\"Original Tidy Image\")\n",
        "axes[2].axis('off')\n",
        "\n",
        "plt.tight_layout()\n",
        "plt.show()"
      ],
      "metadata": {
        "colab": {
          "base_uri": "https://localhost:8080/",
          "height": 328
        },
        "id": "fhzEL6B4IGhe",
        "outputId": "f87fc500-1e48-4405-80de-7b54894c5ce4"
      },
      "execution_count": null,
      "outputs": [
        {
          "output_type": "display_data",
          "data": {
            "text/plain": [
              "<Figure size 1500x500 with 3 Axes>"
            ],
            "image/png": "[encoded data removed]"
          },
          "metadata": {}
        }
      ]
    },
    {
      "cell_type": "code",
      "source": [
        "import matplotlib.pyplot as plt\n",
        "fig, axes = plt.subplots(1, 3, figsize=(15, 5))\n",
        "\n",
        "axes[0].imshow(messy_images[100])\n",
        "axes[0].set_title(\"Original Messy Image\")\n",
        "axes[0].axis('off')\n",
        "\n",
        "axes[1].imshow(tidy_result1)\n",
        "axes[1].set_title(\"Generated Image\")\n",
        "axes[1].axis('off')\n",
        "\n",
        "axes[2].imshow(tidy_images[100])\n",
        "axes[2].set_title(\"Original Tidy Image\")\n",
        "axes[2].axis('off')\n",
        "\n",
        "plt.tight_layout()\n",
        "plt.show()"
      ],
      "metadata": {
        "colab": {
          "base_uri": "https://localhost:8080/",
          "height": 328
        },
        "id": "_NHRU2MdNUGC",
        "outputId": "e3ca3572-424c-4f36-f9ba-716101115885"
      },
      "execution_count": null,
      "outputs": [
        {
          "output_type": "display_data",
          "data": {
            "text/plain": [
              "<Figure size 1500x500 with 3 Axes>"
            ],
            "image/png": "[encoded data removed]"
          },
          "metadata": {}
        }
      ]
    },
    {
      "cell_type": "code",
      "source": [],
      "metadata": {
        "id": "mz4-F0G2Naog"
      },
      "execution_count": null,
      "outputs": []
    }
  ],
  "metadata": {
    "accelerator": "GPU",
    "colab": {
      "gpuType": "A100",
      "machine_shape": "hm",
      "provenance": []
    },
    "kernelspec": {
      "display_name": "Python 3",
      "name": "python3"
    },
    "language_info": {
      "name": "python"
    }
  },
  "nbformat": 4,
  "nbformat_minor": 0
}