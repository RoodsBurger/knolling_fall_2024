{
  "cells": [
    {
      "cell_type": "code",
      "execution_count": 2,
      "metadata": {
        "collapsed": true,
        "id": "r1DpqpYAq1lx",
        "colab": {
          "base_uri": "https://localhost:8080/",
          "height": 393
        },
        "outputId": "fcbe66a3-afb7-4f28-c0b2-d735281d3a16"
      },
      "outputs": [
        {
          "output_type": "error",
          "ename": "ModuleNotFoundError",
          "evalue": "No module named 'ultralytics'",
          "traceback": [
            "\u001b[0;31m---------------------------------------------------------------------------\u001b[0m",
            "\u001b[0;31mModuleNotFoundError\u001b[0m                       Traceback (most recent call last)",
            "\u001b[0;32m<ipython-input-2-ab03751e604f>\u001b[0m in \u001b[0;36m<cell line: 6>\u001b[0;34m()\u001b[0m\n\u001b[1;32m      4\u001b[0m \u001b[0;32mimport\u001b[0m \u001b[0mmatplotlib\u001b[0m\u001b[0;34m.\u001b[0m\u001b[0mpyplot\u001b[0m \u001b[0;32mas\u001b[0m \u001b[0mplt\u001b[0m\u001b[0;34m\u001b[0m\u001b[0;34m\u001b[0m\u001b[0m\n\u001b[1;32m      5\u001b[0m \u001b[0;32mimport\u001b[0m \u001b[0mos\u001b[0m\u001b[0;34m\u001b[0m\u001b[0;34m\u001b[0m\u001b[0m\n\u001b[0;32m----> 6\u001b[0;31m \u001b[0;32mfrom\u001b[0m \u001b[0multralytics\u001b[0m \u001b[0;32mimport\u001b[0m \u001b[0mYOLO\u001b[0m\u001b[0;34m\u001b[0m\u001b[0;34m\u001b[0m\u001b[0m\n\u001b[0m\u001b[1;32m      7\u001b[0m \u001b[0;32mfrom\u001b[0m \u001b[0mtorch\u001b[0m\u001b[0;34m.\u001b[0m\u001b[0moptim\u001b[0m \u001b[0;32mimport\u001b[0m \u001b[0mAdam\u001b[0m\u001b[0;34m\u001b[0m\u001b[0;34m\u001b[0m\u001b[0m\n\u001b[1;32m      8\u001b[0m \u001b[0;32mfrom\u001b[0m \u001b[0mtorch\u001b[0m\u001b[0;34m.\u001b[0m\u001b[0mutils\u001b[0m\u001b[0;34m.\u001b[0m\u001b[0mdata\u001b[0m \u001b[0;32mimport\u001b[0m \u001b[0mDataLoader\u001b[0m\u001b[0;34m,\u001b[0m \u001b[0mDataset\u001b[0m\u001b[0;34m\u001b[0m\u001b[0;34m\u001b[0m\u001b[0m\n",
            "\u001b[0;31mModuleNotFoundError\u001b[0m: No module named 'ultralytics'",
            "",
            "\u001b[0;31m---------------------------------------------------------------------------\u001b[0;32m\nNOTE: If your import is failing due to a missing package, you can\nmanually install dependencies using either !pip or !apt.\n\nTo view examples of installing some common dependencies, click the\n\"Open Examples\" button below.\n\u001b[0;31m---------------------------------------------------------------------------\u001b[0m\n"
          ],
          "errorDetails": {
            "actions": [
              {
                "action": "open_url",
                "actionText": "Open Examples",
                "url": "/notebooks/snippets/importing_libraries.ipynb"
              }
            ]
          }
        }
      ],
      "source": [
        "import torch\n",
        "from torchvision import transforms\n",
        "from PIL import Image\n",
        "import matplotlib.pyplot as plt\n",
        "import os\n",
        "from ultralytics import YOLO\n",
        "from torch.optim import Adam\n",
        "from torch.utils.data import DataLoader, Dataset\n",
        "from diffusers import DDPMPipeline, DDPMScheduler, UNet2DModel\n",
        "import numpy as np\n",
        "import cv2\n",
        "import pickle"
      ]
    },
    {
      "cell_type": "code",
      "execution_count": null,
      "metadata": {
        "id": "r1EsfWQKrYUT"
      },
      "outputs": [],
      "source": [
        "torch.backends.cudnn.benchmark = True\n",
        "abs_path = '/content/drive/Othercomputers/MacBook Pro (Personal)/Documents/COLUMBIA UNIVERSITY/MSCS/Research/Knolling Bot/Preliminary Pipeline/'\n",
        "\n",
        "device = torch.device('cuda' if torch.cuda.is_available() else 'cpu')\n",
        "yolo_model = YOLO('yolov8x.pt').to(device)"
      ]
    },
    {
      "cell_type": "code",
      "execution_count": null,
      "metadata": {
        "id": "sCmwDUQ9mBuf"
      },
      "outputs": [],
      "source": [
        "def load_images(directory):\n",
        "    return [Image.open(os.path.join(directory, filename)) for filename in sorted(os.listdir(directory)) if filename.endswith(('.png', '.jpg'))]\n",
        "\n",
        "messy_images = load_images(os.path.join(abs_path, 'data/images_before_small/'))\n",
        "tidy_images = load_images(os.path.join(abs_path, 'data/images_after_small/'))\n",
        "\n",
        "transform = transforms.Compose([\n",
        "    transforms.Resize((128, 128)),\n",
        "    transforms.ToTensor(),\n",
        "    transforms.Normalize((0.5, 0.5, 0.5), (0.5, 0.5, 0.5)),\n",
        "])"
      ]
    },
    {
      "cell_type": "code",
      "execution_count": null,
      "metadata": {
        "id": "KHoHc0FwCOfn"
      },
      "outputs": [],
      "source": [
        "class MessyTidyDataset(Dataset):\n",
        "    def __init__(self, messy_images, tidy_images, transform=None):\n",
        "        self.messy_images = messy_images\n",
        "        self.tidy_images = tidy_images\n",
        "        self.transform = transform\n",
        "\n",
        "    def __len__(self):\n",
        "        return len(self.messy_images)\n",
        "\n",
        "    def __getitem__(self, idx):\n",
        "        messy_image = self.messy_images[idx]\n",
        "        tidy_image = self.tidy_images[idx]\n",
        "\n",
        "        if self.transform:\n",
        "            messy_image = self.transform(messy_image)\n",
        "            tidy_image = self.transform(tidy_image)\n",
        "\n",
        "        return messy_image, tidy_image\n",
        "\n",
        "dataset = MessyTidyDataset(messy_images, tidy_images, transform=transform)\n",
        "dataloader = DataLoader(dataset, batch_size=8, shuffle=True, num_workers=4, pin_memory=True)"
      ]
    },
    {
      "cell_type": "code",
      "execution_count": null,
      "metadata": {
        "id": "W0jWfCIBChnZ"
      },
      "outputs": [],
      "source": [
        "unet = UNet2DModel(\n",
        "    sample_size=128,\n",
        "    in_channels=3,\n",
        "    out_channels=3,\n",
        "    layers_per_block=2,\n",
        "    block_out_channels=(64, 128, 256, 512),\n",
        "    down_block_types=(\"DownBlock2D\", \"DownBlock2D\", \"DownBlock2D\", \"AttnDownBlock2D\"),\n",
        "    up_block_types=(\"AttnUpBlock2D\", \"UpBlock2D\", \"UpBlock2D\", \"UpBlock2D\"),\n",
        ")\n",
        "\n",
        "model = DDPMPipeline(unet=unet, scheduler=DDPMScheduler(num_train_timesteps=1000)).to(device)\n",
        "optimizer = Adam(model.unet.parameters(), lr=5e-4, betas=(0.5, 0.999))\n",
        "scaler = torch.cuda.amp.GradScaler()"
      ]
    },
    {
      "cell_type": "code",
      "execution_count": null,
      "metadata": {
        "id": "vSjvORritNlk"
      },
      "outputs": [],
      "source": [
        "def extract_objects(yolo_model, image, conf_threshold=0.5, iou_threshold=0.45, imgsz=128):\n",
        "    results = yolo_model(image, conf=conf_threshold, iou=iou_threshold, imgsz=imgsz)\n",
        "    bboxes = results[0].boxes.xyxy.cpu().numpy()\n",
        "    objects = []\n",
        "    for bbox in bboxes:\n",
        "        x1, y1, x2, y2 = map(int, bbox[:4])\n",
        "        obj = image.crop((x1, y1, x2, y2))\n",
        "        objects.append((obj, (x1, y1, x2, y2)))\n",
        "    return objects"
      ]
    },
    {
      "cell_type": "code",
      "execution_count": null,
      "metadata": {
        "id": "vCymQvujtO0m"
      },
      "outputs": [],
      "source": [
        "def composite_tidy_image(objects, image_size=(128, 128)):\n",
        "    tidy_image = Image.new('RGB', image_size, (255, 255, 255))\n",
        "    used_positions = []\n",
        "    placed_objects = set()\n",
        "    max_attempts = 100\n",
        "    for idx, (obj, bbox) in enumerate(objects):\n",
        "        attempts = 0\n",
        "        while attempts < max_attempts:\n",
        "            new_x, new_y = np.random.randint(0, image_size[0] - obj.size[0]), np.random.randint(0, image_size[1] - obj.size[1])\n",
        "            new_bbox = (new_x, new_y, new_x + obj.size[0], new_y + obj.size[1])\n",
        "            if not any([iou(new_bbox, used) > 0 for used in used_positions]):\n",
        "                tidy_image.paste(obj, (new_x, new_y))\n",
        "                used_positions.append(new_bbox)\n",
        "                placed_objects.add(idx)\n",
        "                break\n",
        "            attempts += 1\n",
        "        if idx not in placed_objects:\n",
        "            new_x, new_y = np.random.randint(0, image_size[0] - obj.size[0]), np.random.randint(0, image_size[1] - obj.size[1])\n",
        "            tidy_image.paste(obj, (new_x, new_y))\n",
        "            used_positions.append((new_x, new_y, new_x + obj.size[0], new_y + obj.size[1]))\n",
        "    return tidy_image"
      ]
    },
    {
      "cell_type": "code",
      "execution_count": null,
      "metadata": {
        "id": "qWNTiZ79tT0A"
      },
      "outputs": [],
      "source": [
        "def iou(boxA, boxB):\n",
        "    xA = max(boxA[0], boxB[0])\n",
        "    yA = max(boxA[1], boxB[1])\n",
        "    xB = min(boxA[2], boxB[2])\n",
        "    yB = min(boxB[3], boxB[3])\n",
        "    interArea = max(0, xB - xA) * max(0, yB - yA)\n",
        "    boxAArea = (boxA[2] - boxA[0]) * (boxA[3] - boxA[1])\n",
        "    boxBArea = (boxB[2] - boxB[0]) * (boxB[3] - boxB[1])\n",
        "    iou = interArea / float(boxAArea + boxBArea - interArea)\n",
        "    return iou"
      ]
    },
    {
      "cell_type": "code",
      "execution_count": null,
      "metadata": {
        "id": "hqJIbgM7CjVT"
      },
      "outputs": [],
      "source": [
        "@torch.amp.autocast('cuda')\n",
        "def train_model(unet, dataloader, yolo_model, optimizer, device, scaler, num_epochs=10):\n",
        "    for epoch in range(num_epochs):\n",
        "        unet.train()\n",
        "        for batch_idx, (messy_image, tidy_image) in enumerate(dataloader):\n",
        "            messy_image, tidy_image = messy_image.to(device, non_blocking=True), tidy_image.to(device, non_blocking=True)\n",
        "            optimizer.zero_grad()\n",
        "\n",
        "            if batch_idx == 0:\n",
        "                plt.imshow(transforms.ToPILImage()(messy_image[0].cpu()))\n",
        "                plt.axis('off')\n",
        "                plt.show()\n",
        "                objects = extract_objects(yolo_model, transforms.ToPILImage()(messy_image[0].cpu()))\n",
        "            else:\n",
        "                plt.imshow(transforms.ToPILImage()(predicted_image.squeeze(0).cpu()))\n",
        "                plt.axis('off')\n",
        "                plt.show()\n",
        "                objects = extract_objects(yolo_model, transforms.ToPILImage()(predicted_image.squeeze(0).cpu()))\n",
        "\n",
        "            predicted_image = composite_tidy_image(objects)\n",
        "            predicted_image = transform(predicted_image).unsqueeze(0).to(device)\n",
        "            print(f\"After transform - Min: {predicted_image.min().item()}, Max: {predicted_image.max().item()}, Mean: {predicted_image.mean().item()}\")\n",
        "\n",
        "            noise = 0.02 * torch.randn_like(predicted_image).to(device)\n",
        "            noisy_image = predicted_image\n",
        "            timestep = torch.randint(0, 1000, (predicted_image.shape[0],), device=device).long()\n",
        "\n",
        "            with torch.amp.autocast('cuda'):\n",
        "                predicted_image = unet(noisy_image, timestep).sample\n",
        "                print(f\"After U-Net forward - Min: {predicted_image.min().item()}, Max: {predicted_image.max().item()}, Mean: {predicted_image.mean().item()}\")\n",
        "                loss = torch.nn.functional.mse_loss(predicted_image, tidy_image)\n",
        "                print(f\"Loss: {loss}\")\n",
        "\n",
        "            scaler.scale(loss).backward()\n",
        "            scaler.step(optimizer)\n",
        "            scaler.update()\n",
        "\n",
        "        print(f\"Epoch [{epoch + 1}/{num_epochs}], Loss: {loss.item():.4f}\")\n",
        "\n",
        "train_model(unet, dataloader, yolo_model, optimizer, device, scaler)\n",
        "model.save_pretrained(os.path.join(abs_path, 'trained_model/'))"
      ]
    },
    {
      "cell_type": "code",
      "execution_count": null,
      "metadata": {
        "id": "y-Ffo2PFCpLR"
      },
      "outputs": [],
      "source": [
        "def generate_tidy_image(model, yolo_model, messy_image, transform, device):\n",
        "    with torch.no_grad():\n",
        "        objects = extract_objects(yolo_model, messy_image)\n",
        "        messy_image_tensor = transform(messy_image).unsqueeze(0).to(device)\n",
        "        timestep = torch.tensor([0], device=device).long()\n",
        "        tidy_image_generated = model.unet(messy_image_tensor, timestep).sample\n",
        "        tidy_image_generated = tidy_image_generated.squeeze().cpu()\n",
        "        tidy_image_pil = transforms.ToPILImage()(tidy_image_generated)\n",
        "\n",
        "        return tidy_image_pil"
      ]
    },
    {
      "cell_type": "code",
      "execution_count": null,
      "metadata": {
        "id": "8ARECdH8Cwx4"
      },
      "outputs": [],
      "source": [
        "img_id = 3\n",
        "generated_image = generate_tidy_image(model, yolo_model, messy_images[img_id], transform, device)\n",
        "plt.imshow(generated_image)\n",
        "plt.axis('off')\n",
        "plt.show()\n",
        "plt.imshow(messy_images[img_id])\n",
        "plt.axis('off')\n",
        "plt.show()\n",
        "plt.imshow(tidy_images[img_id])\n",
        "plt.axis('off')\n",
        "plt.show()"
      ]
    },
    {
      "cell_type": "code",
      "execution_count": null,
      "metadata": {
        "id": "U6_4xOFWEYwq"
      },
      "outputs": [],
      "source": []
    }
  ],
  "metadata": {
    "accelerator": "GPU",
    "colab": {
      "gpuType": "A100",
      "machine_shape": "hm",
      "provenance": []
    },
    "kernelspec": {
      "display_name": "Python 3",
      "name": "python3"
    },
    "language_info": {
      "name": "python"
    }
  },
  "nbformat": 4,
  "nbformat_minor": 0
}